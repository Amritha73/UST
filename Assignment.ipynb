{
 "cells": [
  {
   "cell_type": "code",
   "execution_count": 2,
   "id": "b06ac8db",
   "metadata": {},
   "outputs": [
    {
     "name": "stdout",
     "output_type": "stream",
     "text": [
      "Enter Player name 1 :Amritha\n",
      "Enter Player name 2 :Ananya\n",
      "Enter the choice ('S'  for Snake | 'W' for Water | 'G' for Gun)  :  S\n",
      "Enter the choice ('S'  for Snake | 'W' for Water | 'G' for Gun)  :  W\n",
      "Amritha S  wins \n"
     ]
    }
   ],
   "source": [
    "player_1 = input(\"Enter Player name 1 :\")\n",
    "player_2 = input(\"Enter Player name 2 :\")\n",
    "list=[]\n",
    "for i in range(2):\n",
    "    choice = input(\"Enter the choice ('S'  for Snake | 'W' for Water | 'G' for Gun)  :  \")\n",
    "    list.append(choice.upper())\n",
    "if (list[0]=='S' and list[1]=='W'):\n",
    "    print(player_1,s[0],\" wins \")\n",
    "elif (list[0]=='G' and list[1]=='S'):\n",
    "    print(player_1,s[0],\" wins \")\n",
    "elif (list[0]=='W' and list[1]=='G'):\n",
    "    print(player_1,s[0],\" wins \")\n",
    "elif (list[0]=='W' and list[1]=='S'):\n",
    "    print(player_2,s[1],\" wins \")\n",
    "elif (list[0]=='S' and list[1]=='G'):\n",
    "    print(player_2,s[1],\" wins \")\n",
    "elif (list[0]=='G' and list[1]=='W'):\n",
    "    print(player_2,s[1],\" wins \")\n",
    "elif ((list[0]=='S' and list[1]=='S') or (list[0]=='W' and list[1]=='W') or (list[0]=='G' and list[1]=='G')):\n",
    "    print(\"Tie\")\n",
    "else :\n",
    "    print(\"Invalid\")"
   ]
  },
  {
   "cell_type": "code",
   "execution_count": null,
   "id": "e95b2296",
   "metadata": {},
   "outputs": [],
   "source": []
  }
 ],
 "metadata": {
  "kernelspec": {
   "display_name": "Python 3 (ipykernel)",
   "language": "python",
   "name": "python3"
  },
  "language_info": {
   "codemirror_mode": {
    "name": "ipython",
    "version": 3
   },
   "file_extension": ".py",
   "mimetype": "text/x-python",
   "name": "python",
   "nbconvert_exporter": "python",
   "pygments_lexer": "ipython3",
   "version": "3.9.12"
  }
 },
 "nbformat": 4,
 "nbformat_minor": 5
}
